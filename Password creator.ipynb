{
 "cells": [
  {
   "cell_type": "code",
   "execution_count": null,
   "metadata": {},
   "outputs": [],
   "source": [
    "# Password Generator\n",
    "from tkinter import *\n",
    "import random, string"
   ]
  },
  {
   "cell_type": "code",
   "execution_count": null,
   "metadata": {},
   "outputs": [],
   "source": [
    "root = Tk()\n",
    "root.geometry(\"400x280\")\n",
    "root.title(\"Password Generator\")"
   ]
  },
  {
   "cell_type": "code",
   "execution_count": null,
   "metadata": {},
   "outputs": [],
   "source": [
    "title = StringVar()\n",
    "label = Label(root, textvariable=title).pack()\n",
    "title.set(\"Select the strength of the password:\")"
   ]
  },
  {
   "cell_type": "code",
   "execution_count": null,
   "metadata": {},
   "outputs": [],
   "source": [
    "def selection():\n",
    "    global selection\n",
    "    selection = choice.get()"
   ]
  },
  {
   "cell_type": "code",
   "execution_count": null,
   "metadata": {},
   "outputs": [],
   "source": [
    "choice = IntVar()\n",
    "R1 = Radiobutton(root, text=\"POOR\", variable=choice, value=1, command=selection).pack(anchor=CENTER)\n",
    "R2 = Radiobutton(root, text=\"AVERAGE\", variable=choice, value=2, command=selection).pack(anchor=CENTER)\n",
    "R3 = Radiobutton(root, text=\"STRONG\", variable=choice, value=3, command=selection).pack(anchor=CENTER)\n",
    "labelchoice = Label(root)\n",
    "labelchoice.pack()"
   ]
  },
  {
   "cell_type": "code",
   "execution_count": null,
   "metadata": {},
   "outputs": [],
   "source": [
    "lenlabel = StringVar()\n",
    "lenlabel.set(\"Password length:\")\n",
    "lentitle = Label(root, textvariable=lenlabel).pack()"
   ]
  },
  {
   "cell_type": "code",
   "execution_count": null,
   "metadata": {},
   "outputs": [],
   "source": [
    "val = IntVar()\n",
    "spinlenght = Spinbox(root, from_=4, to_=24, textvariable=val, width=13).pack()\n"
   ]
  },
  {
   "cell_type": "code",
   "execution_count": null,
   "metadata": {},
   "outputs": [],
   "source": [
    "def callback():\n",
    "    lsum.config(text=passgen())"
   ]
  },
  {
   "cell_type": "code",
   "execution_count": null,
   "metadata": {},
   "outputs": [],
   "source": [
    "passgenButton = Button(root, text=\"Generate Password\", bd=5, height=2, command=callback, pady=3, bg='lightblue')\n",
    "passgenButton.pack()\n",
    "password = str(callback)"
   ]
  },
  {
   "cell_type": "code",
   "execution_count": null,
   "metadata": {},
   "outputs": [],
   "source": [
    "lsum = Label(root, text=\"\")\n",
    "lsum.pack(side=BOTTOM)"
   ]
  },
  {
   "cell_type": "code",
   "execution_count": null,
   "metadata": {},
   "outputs": [],
   "source": [
    "poor= string.ascii_uppercase + string.ascii_lowercase\n",
    "average= string.ascii_uppercase + string.ascii_lowercase + string.digits\n",
    "symbols = \"\"\"`~!@#$%^&*()_-+={}[]\\|:;\"'<>,.?/\"\"\"\n",
    "advance = poor+ average + symbols"
   ]
  },
  {
   "cell_type": "code",
   "execution_count": null,
   "metadata": {},
   "outputs": [],
   "source": [
    "def passgen():\n",
    "    if choice.get() == 1:\n",
    "        return \"\".join(random.sample(poor, val.get()))\n",
    "    elif choice.get() == 2:\n",
    "        return \"\".join(random.sample(average, val.get()))\n",
    "    elif choice.get() == 3:\n",
    "        return \"\".join(random.sample(advance, val.get()))"
   ]
  },
  {
   "cell_type": "code",
   "execution_count": null,
   "metadata": {},
   "outputs": [],
   "source": [
    "root.mainloop()"
   ]
  },
  {
   "cell_type": "code",
   "execution_count": null,
   "metadata": {},
   "outputs": [],
   "source": []
  }
 ],
 "metadata": {
  "kernelspec": {
   "display_name": "Python 3",
   "language": "python",
   "name": "python3"
  },
  "language_info": {
   "codemirror_mode": {
    "name": "ipython",
    "version": 3
   },
   "file_extension": ".py",
   "mimetype": "text/x-python",
   "name": "python",
   "nbconvert_exporter": "python",
   "pygments_lexer": "ipython3",
   "version": "3.7.6"
  }
 },
 "nbformat": 4,
 "nbformat_minor": 4
}
